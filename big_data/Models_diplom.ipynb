{
 "cells": [
  {
   "cell_type": "code",
   "execution_count": 7,
   "id": "dd61b701",
   "metadata": {},
   "outputs": [],
   "source": [
    "import numpy as np\n",
    "import pandas as pd\n",
    "import matplotlib.pyplot as plt\n",
    "import seaborn as sns\n",
    "import os\n",
    "\n",
    "from sklearn.preprocessing import MinMaxScaler\n",
    "from sklearn.model_selection import train_test_split\n",
    "from sklearn.metrics import mean_squared_error, mean_absolute_error\n",
    "\n",
    "import torch\n",
    "import torch.nn as nn\n",
    "from torch.utils.data import DataLoader, Dataset\n",
    "\n",
    "import warnings\n",
    "warnings.filterwarnings(\"ignore\")\n"
   ]
  },
  {
   "cell_type": "code",
   "execution_count": null,
   "id": "8e22eb53",
   "metadata": {},
   "outputs": [
    {
     "name": "stdout",
     "output_type": "stream",
     "text": [
      "name           int64\n",
      "open         float64\n",
      "high         float64\n",
      "low          float64\n",
      "close        float64\n",
      "volume       float64\n",
      "marketCap    float64\n",
      "dtype: object\n"
     ]
    }
   ],
   "source": [
    "btc_file = '../knn/Bitcoin_01.10.2017-20.03.2025_historical_data_coinmarketcap.csv'\n",
    "eth_file = '../knn/Ethereum_01.12.2018-28.02.2025_historical_data_coinmarketcap.csv'\n",
    "\n",
    "df_btc = pd.read_csv(btc_file, sep=';')\n",
    "df_eth = pd.read_csv(eth_file, sep=';')\n",
    "\n",
    "scaler = MinMaxScaler()\n",
    "scaled_df = df_btc.copy()\n",
    "scaled_df[['open', 'high', 'low', 'close', 'volume', 'marketCap']] = scaler.fit_transform(\n",
    "    scaled_df[['open', 'high', 'low', 'close', 'volume', 'marketCap']]\n",
    ")\n",
    "\n",
    "scaled_df.drop(columns=['timeOpen', 'timeClose', 'timeHigh', 'timeLow'], inplace=True)\n",
    "scaled_df = scaled_df.set_index('timestamp')\n",
    "\n",
    "print(scaled_df.head().dtypes)"
   ]
  },
  {
   "cell_type": "code",
   "execution_count": null,
   "id": "4ca6ba30",
   "metadata": {},
   "outputs": [],
   "source": [
    "def prepare_data(df, window_size=5):\n",
    "    X, y = [], []\n",
    "    for i in range(len(df) - window_size):\n",
    "        features = df.iloc[i:i+window_size].drop(columns=['close']).values\n",
    "        target = df.iloc[i+window_size]['close']\n",
    "        X.append(features.flatten())\n",
    "        y.append(target)\n",
    "    return np.array(X), np.array(y)\n"
   ]
  },
  {
   "cell_type": "code",
   "execution_count": null,
   "id": "c6c01dd2",
   "metadata": {},
   "outputs": [],
   "source": [
    "\n",
    "import torch.nn as nn\n",
    "\n",
    "class MLPModel(nn.Module):\n",
    "    def __init__(self, input_size, hidden_size):\n",
    "        super(MLPModel, self).__init__()\n",
    "        self.model = nn.Sequential(\n",
    "            nn.Linear(input_size, hidden_size),\n",
    "            nn.ReLU(),\n",
    "            nn.Linear(hidden_size, hidden_size // 2),\n",
    "            nn.ReLU(),\n",
    "            nn.Linear(hidden_size // 2, 1)\n",
    "        )\n",
    "\n",
    "    def forward(self, x):\n",
    "        return self.model(x)\n",
    "\n",
    "\n"
   ]
  },
  {
   "cell_type": "code",
   "execution_count": null,
   "id": "facb8bfa",
   "metadata": {},
   "outputs": [],
   "source": [
    "import torch\n",
    "import matplotlib.pyplot as plt\n",
    "from sklearn.metrics import mean_squared_error\n",
    "\n",
    "device = torch.device(\"cuda\" if torch.cuda.is_available() else \"cpu\")\n",
    "\n",
    "def run_torch_model(model_name, model, X_train, y_train, X_test, y_test, scaler, results_dict):\n",
    "    print(f\"Training {model_name}...\")\n",
    "\n",
    "    X_train_tensor = torch.tensor(X_train, dtype=torch.float32).to(device)\n",
    "    y_train_tensor = torch.tensor(y_train.reshape(-1, 1), dtype=torch.float32).to(device)\n",
    "    X_test_tensor = torch.tensor(X_test, dtype=torch.float32).to(device)\n",
    "    y_test_tensor = torch.tensor(y_test.reshape(-1, 1), dtype=torch.float32).to(device)\n",
    "\n",
    "    model = model.to(device)\n",
    "    criterion = torch.nn.MSELoss()\n",
    "    optimizer = torch.optim.Adam(model.parameters(), lr=0.001)\n",
    "\n",
    "    for epoch in range(50):\n",
    "        model.train()\n",
    "        optimizer.zero_grad()\n",
    "        output = model(X_train_tensor)\n",
    "        loss = criterion(output, y_train_tensor)\n",
    "        loss.backward()\n",
    "        optimizer.step()\n",
    "\n",
    "    model.eval()\n",
    "    with torch.no_grad():\n",
    "        preds = model(X_test_tensor).cpu().numpy()\n",
    "        y_true = y_test_tensor.cpu().numpy()\n",
    "\n",
    "    preds_inv = scaler.inverse_transform(preds)\n",
    "    y_true_inv = scaler.inverse_transform(y_true)\n",
    "    rmse = mean_squared_error(y_true_inv, preds_inv)\n",
    "    results_dict[model_name] = rmse\n",
    "\n",
    "    plt.figure(figsize=(12, 5))\n",
    "    plt.plot(y_true_inv, label='Actual')\n",
    "    plt.plot(preds_inv, label='Predicted')\n",
    "    plt.title(f\"{model_name} Prediction (RMSE: {rmse:.4f})\")\n",
    "    plt.legend()\n",
    "    plt.grid(True)\n",
    "    plt.show()\n"
   ]
  },
  {
   "cell_type": "code",
   "execution_count": null,
   "id": "54b77d06",
   "metadata": {},
   "outputs": [
    {
     "name": "stdout",
     "output_type": "stream",
     "text": [
      "Training MLP_1...\n"
     ]
    },
    {
     "ename": "ValueError",
     "evalue": "non-broadcastable output operand with shape (79,1) doesn't match the broadcast shape (79,6)",
     "output_type": "error",
     "traceback": [
      "\u001b[31m---------------------------------------------------------------------------\u001b[39m",
      "\u001b[31mValueError\u001b[39m                                Traceback (most recent call last)",
      "\u001b[36mCell\u001b[39m\u001b[36m \u001b[39m\u001b[32mIn[15]\u001b[39m\u001b[32m, line 5\u001b[39m\n\u001b[32m      3\u001b[39m     hidden_size = \u001b[38;5;28mmin\u001b[39m(\u001b[32m128\u001b[39m, \u001b[32m2\u001b[39m * i * input_size)  \u001b[38;5;66;03m# Залежність від input_size\u001b[39;00m\n\u001b[32m      4\u001b[39m     model = MLPModel(input_size=input_size, hidden_size=hidden_size)\n\u001b[32m----> \u001b[39m\u001b[32m5\u001b[39m     \u001b[43mrun_torch_model\u001b[49m\u001b[43m(\u001b[49m\u001b[33;43mf\u001b[39;49m\u001b[33;43m\"\u001b[39;49m\u001b[33;43mMLP_\u001b[39;49m\u001b[38;5;132;43;01m{\u001b[39;49;00m\u001b[43mi\u001b[49m\u001b[38;5;132;43;01m}\u001b[39;49;00m\u001b[33;43m\"\u001b[39;49m\u001b[43m,\u001b[49m\u001b[43m \u001b[49m\u001b[43mmodel\u001b[49m\u001b[43m,\u001b[49m\u001b[43m \u001b[49m\u001b[43mX_train\u001b[49m\u001b[43m,\u001b[49m\u001b[43m \u001b[49m\u001b[43my_train\u001b[49m\u001b[43m,\u001b[49m\u001b[43m \u001b[49m\u001b[43mX_test\u001b[49m\u001b[43m,\u001b[49m\u001b[43m \u001b[49m\u001b[43my_test\u001b[49m\u001b[43m,\u001b[49m\u001b[43m \u001b[49m\u001b[43mscaler\u001b[49m\u001b[43m,\u001b[49m\u001b[43m \u001b[49m\u001b[43mresults\u001b[49m\u001b[43m)\u001b[49m\n\u001b[32m      6\u001b[39m results = {}\n\u001b[32m      8\u001b[39m \u001b[38;5;28mprint\u001b[39m(\u001b[33m\"\u001b[39m\u001b[38;5;130;01m\\n\u001b[39;00m\u001b[33m📈 RMSE Results Summary:\u001b[39m\u001b[33m\"\u001b[39m)\n",
      "\u001b[36mCell\u001b[39m\u001b[36m \u001b[39m\u001b[32mIn[11]\u001b[39m\u001b[32m, line 36\u001b[39m, in \u001b[36mrun_torch_model\u001b[39m\u001b[34m(model_name, model, X_train, y_train, X_test, y_test, scaler, results_dict)\u001b[39m\n\u001b[32m     33\u001b[39m     y_true = y_test_tensor.cpu().numpy()\n\u001b[32m     35\u001b[39m \u001b[38;5;66;03m# Оцінка і графік\u001b[39;00m\n\u001b[32m---> \u001b[39m\u001b[32m36\u001b[39m preds_inv = \u001b[43mscaler\u001b[49m\u001b[43m.\u001b[49m\u001b[43minverse_transform\u001b[49m\u001b[43m(\u001b[49m\u001b[43mpreds\u001b[49m\u001b[43m)\u001b[49m\n\u001b[32m     37\u001b[39m y_true_inv = scaler.inverse_transform(y_true)\n\u001b[32m     38\u001b[39m rmse = mean_squared_error(y_true_inv, preds_inv)\n",
      "\u001b[36mFile \u001b[39m\u001b[32mc:\\Users\\maste\\AppData\\Local\\Programs\\Python\\Python313\\Lib\\site-packages\\sklearn\\preprocessing\\_data.py:581\u001b[39m, in \u001b[36mMinMaxScaler.inverse_transform\u001b[39m\u001b[34m(self, X)\u001b[39m\n\u001b[32m    571\u001b[39m xp, _ = get_namespace(X)\n\u001b[32m    573\u001b[39m X = check_array(\n\u001b[32m    574\u001b[39m     X,\n\u001b[32m    575\u001b[39m     copy=\u001b[38;5;28mself\u001b[39m.copy,\n\u001b[32m   (...)\u001b[39m\u001b[32m    578\u001b[39m     ensure_all_finite=\u001b[33m\"\u001b[39m\u001b[33mallow-nan\u001b[39m\u001b[33m\"\u001b[39m,\n\u001b[32m    579\u001b[39m )\n\u001b[32m--> \u001b[39m\u001b[32m581\u001b[39m \u001b[43mX\u001b[49m\u001b[43m \u001b[49m\u001b[43m-\u001b[49m\u001b[43m=\u001b[49m\u001b[43m \u001b[49m\u001b[38;5;28;43mself\u001b[39;49m\u001b[43m.\u001b[49m\u001b[43mmin_\u001b[49m\n\u001b[32m    582\u001b[39m X /= \u001b[38;5;28mself\u001b[39m.scale_\n\u001b[32m    583\u001b[39m \u001b[38;5;28;01mreturn\u001b[39;00m X\n",
      "\u001b[31mValueError\u001b[39m: non-broadcastable output operand with shape (79,1) doesn't match the broadcast shape (79,6)"
     ]
    }
   ],
   "source": [
    "results = {}\n",
    "\n",
    "for i in range(5, 40, 5):\n",
    "    X, y = prepare_data(scaled_df, window_size=5)\n",
    "    X_train, X_test, y_train, y_test = train_test_split(X, y, shuffle=False, test_size=0.2)\n",
    "\n",
    "    \n",
    "    input_size = X_train.shape[1]\n",
    "    hidden_size = min(128, 2 * i)\n",
    "    model = MLPModel(input_size=input_size, hidden_size=hidden_size)\n",
    "\n",
    "    run_torch_model(f\"MLP_{i}\", model, X_train, y_train, X_test, y_test, scaler, results)\n",
    "\n",
    "print(\"\\n📈 RMSE Results Summary:\")\n",
    "for model_name, rmse in results.items():\n",
    "    print(f\"{model_name:20s}: RMSE = {rmse:.4f}\")\n"
   ]
  }
 ],
 "metadata": {
  "kernelspec": {
   "display_name": "Python 3",
   "language": "python",
   "name": "python3"
  },
  "language_info": {
   "codemirror_mode": {
    "name": "ipython",
    "version": 3
   },
   "file_extension": ".py",
   "mimetype": "text/x-python",
   "name": "python",
   "nbconvert_exporter": "python",
   "pygments_lexer": "ipython3",
   "version": "3.13.3"
  }
 },
 "nbformat": 4,
 "nbformat_minor": 5
}
