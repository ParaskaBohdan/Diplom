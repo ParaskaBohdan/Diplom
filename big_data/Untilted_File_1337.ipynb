{
 "cells": [
  {
   "cell_type": "markdown",
   "id": "b000687c",
   "metadata": {},
   "source": [
    "# Імпорт Бібліотек Йоооооу"
   ]
  },
  {
   "cell_type": "code",
   "execution_count": null,
   "id": "f5d6d32e",
   "metadata": {},
   "outputs": [],
   "source": [
    "import numpy as np\n",
    "import pandas as pd\n",
    "import matplotlib.pyplot as plt\n",
    "import seaborn as sns\n",
    "\n",
    "from sklearn.preprocessing import MinMaxScaler\n",
    "from sklearn.metrics import mean_squared_error, mean_absolute_error\n",
    "\n",
    "import torch\n",
    "import torch.nn as nn\n",
    "from torch.utils.data import DataLoader, Dataset\n",
    "\n",
    "import warnings\n",
    "warnings.filterwarnings(\"ignore\")\n"
   ]
  },
  {
   "cell_type": "markdown",
   "id": "cb8cdbe7",
   "metadata": {},
   "source": [
    "# Генеруємо синтетичний часовий ряд (імітація коливань цін)"
   ]
  },
  {
   "cell_type": "code",
   "execution_count": null,
   "id": "b02be6d3",
   "metadata": {},
   "outputs": [],
   "source": [
    "np.random.seed(42)\n",
    "days = 500\n",
    "trend = np.linspace(50, 100, days)\n",
    "seasonal = 10 * np.sin(np.linspace(0, 20 * np.pi, days))\n",
    "noise = np.random.normal(0, 2, days)\n",
    "\n",
    "price = trend + seasonal + noise\n",
    "\n",
    "plt.figure(figsize=(12, 5))\n",
    "plt.plot(price, label=\"Synthetic Price\")\n",
    "plt.title(\"Synthetic Time Series (Price)\")\n",
    "plt.xlabel(\"Time Step\")\n",
    "plt.ylabel(\"Price\")\n",
    "plt.legend()\n",
    "plt.grid()\n",
    "plt.show()\n"
   ]
  },
  {
   "cell_type": "markdown",
   "id": "9fcef972",
   "metadata": {},
   "source": [
    "# Скейлинг\n",
    "scaler = MinMaxScaler()\n",
    "price_scaled = scaler.fit_transform(price.reshape(-1, 1))\n",
    "\n",
    "# Функція для створення послідовностей\n",
    "def create_sequences(data, window_size):\n",
    "    sequences = []\n",
    "    targets = []\n",
    "    for i in range(len(data) - window_size):\n",
    "        seq = data[i:i+window_size]\n",
    "        label = data[i+window_size]\n",
    "        sequences.append(seq)\n",
    "        targets.append(label)\n",
    "    return np.array(sequences), np.array(targets)\n",
    "\n",
    "window_size = 20\n",
    "X, y = create_sequences(price_scaled, window_size)\n",
    "\n",
    "# Train / Test split\n",
    "split = int(len(X) * 0.8)\n",
    "X_train, y_train = X[:split], y[:split]\n",
    "X_test, y_test = X[split:], y[split:]\n",
    "\n",
    "# Convert to torch tensors\n",
    "X_train_tensor = torch.tensor(X_train, dtype=torch.float32)\n",
    "y_train_tensor = torch.tensor(y_train, dtype=torch.float32)\n",
    "X_test_tensor = torch.tensor(X_test, dtype=torch.float32)\n",
    "y_test_tensor = torch.tensor(y_test, dtype=torch.float32)\n"
   ]
  },
  {
   "cell_type": "code",
   "execution_count": null,
   "id": "d88c5cc0",
   "metadata": {},
   "outputs": [],
   "source": [
    "class TimeSeriesDataset(Dataset):\n",
    "    def __init__(self, X, y):\n",
    "        self.X = X\n",
    "        self.y = y\n",
    "\n",
    "    def __len__(self):\n",
    "        return len(self.X)\n",
    "\n",
    "    def __getitem__(self, idx):\n",
    "        return self.X[idx], self.y[idx]\n",
    "\n",
    "train_dataset = TimeSeriesDataset(X_train_tensor, y_train_tensor)\n",
    "test_dataset = TimeSeriesDataset(X_test_tensor, y_test_tensor)\n",
    "\n",
    "train_loader = DataLoader(train_dataset, batch_size=32, shuffle=True)\n",
    "test_loader = DataLoader(test_dataset, batch_size=32, shuffle=False)\n"
   ]
  }
 ],
 "metadata": {
  "language_info": {
   "name": "python"
  }
 },
 "nbformat": 4,
 "nbformat_minor": 5
}
